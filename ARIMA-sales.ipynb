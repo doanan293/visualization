{
 "cells": [
  {
   "cell_type": "code",
   "execution_count": 1,
   "metadata": {},
   "outputs": [
    {
     "name": "stderr",
     "output_type": "stream",
     "text": [
      "/tmp/ipykernel_10435/870162157.py:2: DtypeWarning: Columns (0) have mixed types. Specify dtype option on import or set low_memory=False.\n",
      "  df = pd.read_csv('sales.csv', usecols=[\"order_id\", \"order_date\"])\n"
     ]
    }
   ],
   "source": [
    "import pandas as pd\n",
    "df = pd.read_csv('sales.csv', usecols=[\"order_id\", \"order_date\"])\n"
   ]
  },
  {
   "cell_type": "code",
   "execution_count": 2,
   "metadata": {},
   "outputs": [],
   "source": [
    "df.drop_duplicates(subset=[\"order_id\"], inplace=True, ignore_index=True)"
   ]
  },
  {
   "cell_type": "code",
   "execution_count": 3,
   "metadata": {},
   "outputs": [
    {
     "data": {
      "text/html": [
       "<div>\n",
       "<style scoped>\n",
       "    .dataframe tbody tr th:only-of-type {\n",
       "        vertical-align: middle;\n",
       "    }\n",
       "\n",
       "    .dataframe tbody tr th {\n",
       "        vertical-align: top;\n",
       "    }\n",
       "\n",
       "    .dataframe thead th {\n",
       "        text-align: right;\n",
       "    }\n",
       "</style>\n",
       "<table border=\"1\" class=\"dataframe\">\n",
       "  <thead>\n",
       "    <tr style=\"text-align: right;\">\n",
       "      <th></th>\n",
       "      <th>order_id</th>\n",
       "      <th>order_date</th>\n",
       "    </tr>\n",
       "  </thead>\n",
       "  <tbody>\n",
       "    <tr>\n",
       "      <th>0</th>\n",
       "      <td>100354678</td>\n",
       "      <td>2020-10-01</td>\n",
       "    </tr>\n",
       "    <tr>\n",
       "      <th>1</th>\n",
       "      <td>100354680</td>\n",
       "      <td>2020-10-01</td>\n",
       "    </tr>\n",
       "    <tr>\n",
       "      <th>2</th>\n",
       "      <td>100367357</td>\n",
       "      <td>2020-11-13</td>\n",
       "    </tr>\n",
       "    <tr>\n",
       "      <th>3</th>\n",
       "      <td>100367360</td>\n",
       "      <td>2020-11-13</td>\n",
       "    </tr>\n",
       "    <tr>\n",
       "      <th>4</th>\n",
       "      <td>100354677</td>\n",
       "      <td>2020-10-01</td>\n",
       "    </tr>\n",
       "  </tbody>\n",
       "</table>\n",
       "</div>"
      ],
      "text/plain": [
       "    order_id  order_date\n",
       "0  100354678  2020-10-01\n",
       "1  100354680  2020-10-01\n",
       "2  100367357  2020-11-13\n",
       "3  100367360  2020-11-13\n",
       "4  100354677  2020-10-01"
      ]
     },
     "execution_count": 3,
     "metadata": {},
     "output_type": "execute_result"
    }
   ],
   "source": [
    "df.head()"
   ]
  },
  {
   "cell_type": "code",
   "execution_count": 4,
   "metadata": {},
   "outputs": [],
   "source": [
    "# Convert 'order_date' to datetime\n",
    "df['order_date'] = pd.to_datetime(df['order_date'])\n",
    "\n",
    "# Extract the week number from 'order_date'\n",
    "df['week'] = df['order_date'].dt.isocalendar().week\n",
    "\n",
    "# Group by week and count 'order_id'\n",
    "result = df.groupby('week')['order_id'].count().reset_index()\n",
    "\n",
    "# Rename the column\n",
    "result.columns = ['week', 'number_of_order']\n",
    "df = result.iloc[1:-1]\n",
    "# df = result"
   ]
  },
  {
   "cell_type": "code",
   "execution_count": 5,
   "metadata": {},
   "outputs": [
    {
     "data": {
      "text/html": [
       "<div>\n",
       "<style scoped>\n",
       "    .dataframe tbody tr th:only-of-type {\n",
       "        vertical-align: middle;\n",
       "    }\n",
       "\n",
       "    .dataframe tbody tr th {\n",
       "        vertical-align: top;\n",
       "    }\n",
       "\n",
       "    .dataframe thead th {\n",
       "        text-align: right;\n",
       "    }\n",
       "</style>\n",
       "<table border=\"1\" class=\"dataframe\">\n",
       "  <thead>\n",
       "    <tr style=\"text-align: right;\">\n",
       "      <th></th>\n",
       "      <th>week</th>\n",
       "      <th>number_of_order</th>\n",
       "    </tr>\n",
       "  </thead>\n",
       "  <tbody>\n",
       "    <tr>\n",
       "      <th>1</th>\n",
       "      <td>2</td>\n",
       "      <td>2701</td>\n",
       "    </tr>\n",
       "    <tr>\n",
       "      <th>2</th>\n",
       "      <td>3</td>\n",
       "      <td>1891</td>\n",
       "    </tr>\n",
       "    <tr>\n",
       "      <th>3</th>\n",
       "      <td>4</td>\n",
       "      <td>1492</td>\n",
       "    </tr>\n",
       "    <tr>\n",
       "      <th>4</th>\n",
       "      <td>5</td>\n",
       "      <td>2538</td>\n",
       "    </tr>\n",
       "    <tr>\n",
       "      <th>5</th>\n",
       "      <td>6</td>\n",
       "      <td>1489</td>\n",
       "    </tr>\n",
       "  </tbody>\n",
       "</table>\n",
       "</div>"
      ],
      "text/plain": [
       "   week  number_of_order\n",
       "1     2             2701\n",
       "2     3             1891\n",
       "3     4             1492\n",
       "4     5             2538\n",
       "5     6             1489"
      ]
     },
     "execution_count": 5,
     "metadata": {},
     "output_type": "execute_result"
    }
   ],
   "source": [
    "df.head()"
   ]
  },
  {
   "cell_type": "code",
   "execution_count": 6,
   "metadata": {},
   "outputs": [
    {
     "data": {
      "image/png": "[encoded data removed]",
      "text/plain": [
       "<Figure size 640x480 with 1 Axes>"
      ]
     },
     "execution_count": 6,
     "metadata": {},
     "output_type": "execute_result"
    },
    {
     "data": {
      "image/png": "[encoded data removed]",
      "text/plain": [
       "<Figure size 640x480 with 1 Axes>"
      ]
     },
     "metadata": {},
     "output_type": "display_data"
    }
   ],
   "source": [
    "from statsmodels.graphics.tsaplots import plot_acf\n",
    "\n",
    "# Plot the autocorrelation function for the 'value' column of the dataframe\n",
    "plot_acf(df.number_of_order)\n"
   ]
  },
  {
   "cell_type": "code",
   "execution_count": 7,
   "metadata": {},
   "outputs": [
    {
     "name": "stdout",
     "output_type": "stream",
     "text": [
      "2    -810.0\n",
      "3    -399.0\n",
      "4    1046.0\n",
      "5   -1049.0\n",
      "6    -236.0\n",
      "Name: number_of_order, dtype: float64\n",
      "Length before dropna: 51, after dropna: 50\n"
     ]
    },
    {
     "data": {
      "image/png": "[encoded data removed]",
      "text/plain": [
       "<Figure size 640x480 with 2 Axes>"
      ]
     },
     "metadata": {},
     "output_type": "display_data"
    }
   ],
   "source": [
    "import matplotlib.pyplot as plt\n",
    "from statsmodels.graphics.tsaplots import plot_acf\n",
    "\n",
    "# Check if the 'value' column is numeric and inspect the diffed series\n",
    "diff_series = df['number_of_order'].diff().dropna()\n",
    "\n",
    "# Inspect before plotting\n",
    "print(diff_series.head())\n",
    "print(f\"Length before dropna: {len(df['number_of_order'].diff())}, after dropna: {len(diff_series)}\")\n",
    "\n",
    "# If the diffed series is fine, proceed with plotting\n",
    "f = plt.figure()\n",
    "\n",
    "ax1 = f.add_subplot(121)\n",
    "ax1.set_title('1st Order Differencing')\n",
    "\n",
    "# Plot the differenced series, using .values for numpy array\n",
    "ax1.plot(diff_series.values)\n",
    "\n",
    "# Second subplot: Plot the ACF of the differenced series\n",
    "ax2 = f.add_subplot(122)\n",
    "plot_acf(diff_series, ax=ax2)\n",
    "\n",
    "plt.show()\n"
   ]
  },
  {
   "cell_type": "code",
   "execution_count": 8,
   "metadata": {},
   "outputs": [
    {
     "name": "stdout",
     "output_type": "stream",
     "text": [
      "3     411.0\n",
      "4    1445.0\n",
      "5   -2095.0\n",
      "6     813.0\n",
      "7     230.0\n",
      "Name: number_of_order, dtype: float64\n",
      "Length before dropna: 51, after dropna: 49\n"
     ]
    },
    {
     "data": {
      "image/png": "[encoded data removed]",
      "text/plain": [
       "<Figure size 640x480 with 2 Axes>"
      ]
     },
     "metadata": {},
     "output_type": "display_data"
    }
   ],
   "source": [
    "import matplotlib.pyplot as plt\n",
    "from statsmodels.graphics.tsaplots import plot_acf\n",
    "\n",
    "# Check if the 'value' column is numeric and inspect the diffed series\n",
    "diff_series = df['number_of_order'].diff().diff().dropna()\n",
    "\n",
    "# Inspect before plotting\n",
    "print(diff_series.head())\n",
    "print(f\"Length before dropna: {len(df['number_of_order'].diff().diff())}, after dropna: {len(diff_series)}\")\n",
    "\n",
    "# If the diffed series is fine, proceed with plotting\n",
    "f = plt.figure()\n",
    "\n",
    "ax1 = f.add_subplot(121)\n",
    "ax1.set_title('2st Order Differencing')\n",
    "\n",
    "# Plot the differenced series, using .values for numpy array\n",
    "ax1.plot(diff_series.values)\n",
    "\n",
    "# Second subplot: Plot the ACF of the differenced series\n",
    "ax2 = f.add_subplot(122)\n",
    "plot_acf(diff_series, ax=ax2)\n",
    "\n",
    "plt.show()\n"
   ]
  },
  {
   "cell_type": "code",
   "execution_count": 9,
   "metadata": {},
   "outputs": [
    {
     "name": "stdout",
     "output_type": "stream",
     "text": [
      "p-value:  0.5948750301688045\n",
      "p-value:  2.3191343489960987e-10\n",
      "p-value:  2.4069914366563067e-10\n",
      "p-value:  4.998137507326206e-05\n"
     ]
    }
   ],
   "source": [
    "from statsmodels.tsa.stattools import adfuller\n",
    "result = adfuller(df.number_of_order.dropna())\n",
    "print('p-value: ', result[1])\n",
    "\n",
    "result = adfuller(df.number_of_order.diff().dropna())\n",
    "print('p-value: ', result[1])\n",
    "\n",
    "result = adfuller(df.number_of_order.diff().diff().dropna())\n",
    "print('p-value: ', result[1])\n",
    "\n",
    "result = adfuller(df.number_of_order.diff().diff().diff().dropna())\n",
    "print('p-value: ', result[1])\n"
   ]
  },
  {
   "cell_type": "code",
   "execution_count": 10,
   "metadata": {},
   "outputs": [
    {
     "name": "stdout",
     "output_type": "stream",
     "text": [
      "                               SARIMAX Results                                \n",
      "==============================================================================\n",
      "Dep. Variable:        number_of_order   No. Observations:                   51\n",
      "Model:                 ARIMA(3, 1, 2)   Log Likelihood                -488.876\n",
      "Date:                Sun, 15 Dec 2024   AIC                            989.752\n",
      "Time:                        15:08:21   BIC                           1001.224\n",
      "Sample:                             0   HQIC                           994.121\n",
      "                                 - 51                                         \n",
      "Covariance Type:                  opg                                         \n",
      "==============================================================================\n",
      "                 coef    std err          z      P>|z|      [0.025      0.975]\n",
      "------------------------------------------------------------------------------\n",
      "ar.L1          0.2525      0.262      0.965      0.335      -0.261       0.766\n",
      "ar.L2         -0.6841      0.263     -2.598      0.009      -1.200      -0.168\n",
      "ar.L3         -0.3436      0.258     -1.330      0.184      -0.850       0.163\n",
      "ma.L1         -0.4840      0.248     -1.953      0.051      -0.970       0.002\n",
      "ma.L2          0.9628      0.378      2.544      0.011       0.221       1.705\n",
      "sigma2      2.133e+07   1.17e-08   1.83e+15      0.000    2.13e+07    2.13e+07\n",
      "===================================================================================\n",
      "Ljung-Box (L1) (Q):                   0.00   Jarque-Bera (JB):               136.80\n",
      "Prob(Q):                              0.96   Prob(JB):                         0.00\n",
      "Heteroskedasticity (H):               1.24   Skew:                             1.53\n",
      "Prob(H) (two-sided):                  0.66   Kurtosis:                        10.51\n",
      "===================================================================================\n",
      "\n",
      "Warnings:\n",
      "[1] Covariance matrix calculated using the outer product of gradients (complex-step).\n",
      "[2] Covariance matrix is singular or near-singular, with condition number 2.7e+31. Standard errors may be unstable.\n"
     ]
    },
    {
     "name": "stderr",
     "output_type": "stream",
     "text": [
      "/home/andv/VCS/visualization/.venv/lib/python3.10/site-packages/statsmodels/tsa/statespace/sarimax.py:966: UserWarning: Non-stationary starting autoregressive parameters found. Using zeros as starting parameters.\n",
      "  warn('Non-stationary starting autoregressive parameters'\n",
      "/home/andv/VCS/visualization/.venv/lib/python3.10/site-packages/statsmodels/tsa/statespace/sarimax.py:978: UserWarning: Non-invertible starting MA parameters found. Using zeros as starting parameters.\n",
      "  warn('Non-invertible starting MA parameters found.'\n"
     ]
    }
   ],
   "source": [
    "from statsmodels.tsa.arima.model import ARIMA\n",
    "\n",
    "# Fit ARIMA model (order = (1, 1, 2))\n",
    "arima_model = ARIMA(df.number_of_order, order=(3, 1, 2))\n",
    "model = arima_model.fit()\n",
    "\n",
    "# Print the summary\n",
    "print(model.summary())\n"
   ]
  },
  {
   "cell_type": "code",
   "execution_count": 15,
   "metadata": {},
   "outputs": [
    {
     "data": {
      "image/png": "[encoded data removed]",
      "text/plain": [
       "<Figure size 1000x600 with 1 Axes>"
      ]
     },
     "metadata": {},
     "output_type": "display_data"
    }
   ],
   "source": [
    "import matplotlib.pyplot as plt\n",
    "import numpy as np\n",
    "\n",
    "# Make predictions (fitted values)\n",
    "fitted_values = model.fittedvalues\n",
    "\n",
    "# Plot the actual vs fitted values\n",
    "plt.figure(figsize=(10, 6))\n",
    "plt.plot(df['week'], df['number_of_order'], label='Actual Values', color='blue', marker='o')\n",
    "plt.plot(df['week'], fitted_values, label='Fitted Values (ARIMA)', color='red', linestyle='--')\n",
    "\n",
    "# Optionally forecast future values (e.g., next 2 weeks)\n",
    "forecast_steps = 6\n",
    "forecast = model.forecast(steps=forecast_steps)\n",
    "forecast_index = np.arange(df['week'].max() + 1, df['week'].max() + 1 + forecast_steps)\n",
    "\n",
    "# Plot forecasted values\n",
    "plt.plot(forecast_index, forecast, label='Forecasted Values', color='green', marker='x', linestyle='--')\n",
    "\n",
    "# Add labels and legend\n",
    "plt.title('ARIMA Model: Actual vs Fitted vs Forecast')\n",
    "plt.xlabel('Week')\n",
    "plt.ylabel('Number of Orders')\n",
    "plt.legend()\n",
    "\n",
    "# Show plot\n",
    "plt.show()\n"
   ]
  },
  {
   "cell_type": "code",
   "execution_count": 18,
   "metadata": {},
   "outputs": [
    {
     "data": {
      "application/vnd.plotly.v1+json": {
       "config": {
        "plotlyServerURL": "https://plot.ly"
       },
       "data": [
        {
         "hoverinfo": "text",
         "line": {
          "color": "blue"
         },
         "marker": {
          "size": 8,
          "symbol": "circle"
         },
         "mode": "markers+lines",
         "name": "Actual Values",
         "text": [
          "Week 2: 2701",
          "Week 3: 1891",
          "Week 4: 1492",
          "Week 5: 2538",
          "Week 6: 1489",
          "Week 7: 1253",
          "Week 8: 1247",
          "Week 9: 2279",
          "Week 10: 1264",
          "Week 11: 4721",
          "Week 12: 8046",
          "Week 13: 6702",
          "Week 14: 3941",
          "Week 15: 9189",
          "Week 16: 3039",
          "Week 17: 16974",
          "Week 18: 1584",
          "Week 19: 1614",
          "Week 20: 2406",
          "Week 21: 1796",
          "Week 22: 3388",
          "Week 23: 6560",
          "Week 24: 5376",
          "Week 25: 2801",
          "Week 26: 3188",
          "Week 27: 2433",
          "Week 28: 1955",
          "Week 29: 2120",
          "Week 30: 2011",
          "Week 31: 1822",
          "Week 32: 1929",
          "Week 33: 1845",
          "Week 34: 1392",
          "Week 35: 1411",
          "Week 36: 1530",
          "Week 37: 4099",
          "Week 38: 958",
          "Week 39: 557",
          "Week 40: 906",
          "Week 41: 1265",
          "Week 42: 1474",
          "Week 43: 1438",
          "Week 44: 1456",
          "Week 45: 2336",
          "Week 46: 4780",
          "Week 47: 3370",
          "Week 48: 1782",
          "Week 49: 1855",
          "Week 50: 2820",
          "Week 51: 12126",
          "Week 52: 30634"
         ],
         "type": "scatter",
         "x": [
          2,
          3,
          4,
          5,
          6,
          7,
          8,
          9,
          10,
          11,
          12,
          13,
          14,
          15,
          16,
          17,
          18,
          19,
          20,
          21,
          22,
          23,
          24,
          25,
          26,
          27,
          28,
          29,
          30,
          31,
          32,
          33,
          34,
          35,
          36,
          37,
          38,
          39,
          40,
          41,
          42,
          43,
          44,
          45,
          46,
          47,
          48,
          49,
          50,
          51,
          52
         ],
         "y": [
          2701,
          1891,
          1492,
          2538,
          1489,
          1253,
          1247,
          2279,
          1264,
          4721,
          8046,
          6702,
          3941,
          9189,
          3039,
          16974,
          1584,
          1614,
          2406,
          1796,
          3388,
          6560,
          5376,
          2801,
          3188,
          2433,
          1955,
          2120,
          2011,
          1822,
          1929,
          1845,
          1392,
          1411,
          1530,
          4099,
          958,
          557,
          906,
          1265,
          1474,
          1438,
          1456,
          2336,
          4780,
          3370,
          1782,
          1855,
          2820,
          12126,
          30634
         ]
        },
        {
         "hoverinfo": "text",
         "line": {
          "color": "red",
          "dash": "dash"
         },
         "mode": "lines",
         "name": "Fitted Values (ARIMA)",
         "text": [
          "Week 2: 0.0",
          "Week 3: 2128.7835828597845",
          "Week 4: 2266.0246448381804",
          "Week 5: 1198.4032732935852",
          "Week 6: 2091.354542107292",
          "Week 7: 2055.377570592646",
          "Week 8: 1401.864451618385",
          "Week 9: 1145.6252812970552",
          "Week 10: 1966.2941920832473",
          "Week 11: 1628.983251950964",
          "Week 12: 3875.0889273999305",
          "Week 13: 7674.9817906730905",
          "Week 14: 7097.113868937122",
          "Week 15: 3622.2747207688863",
          "Week 16: 7384.43981606767",
          "Week 17: 5960.123284895909",
          "Week 18: 13716.80147159509",
          "Week 19: 6094.696670650133",
          "Week 20: -1668.0408950959538",
          "Week 21: 1816.9599977532193",
          "Week 22: 4867.4063635789535",
          "Week 23: 4619.935077009544",
          "Week 24: 4186.617147841518",
          "Week 25: 3596.2797052794012",
          "Week 26: 3357.2570162955226",
          "Week 27: 4792.37274585782",
          "Week 28: 3830.8729770152295",
          "Week 29: 902.7971713815614",
          "Week 30: 408.1719724030968",
          "Week 31: 2412.0066307755155",
          "Week 32: 3581.0674224011",
          "Week 33: 2358.490260092569",
          "Week 34: 504.5940801366728",
          "Week 35: 388.8411427012901",
          "Week 36: 2102.7931948237465",
          "Week 37: 2943.0861324939497",
          "Week 38: 3563.7768846139966",
          "Week 39: 711.8040061510088",
          "Week 40: -670.9341977687786",
          "Week 41: 1443.6459265279018",
          "Week 42: 2835.720435611545",
          "Week 43: 1645.874632764479",
          "Week 44: -30.49468654055113",
          "Week 45: 501.0762038186276",
          "Week 46: 3088.988678382597",
          "Week 47: 5720.081676101731",
          "Week 48: 3780.271619829543",
          "Week 49: 230.9542238180145",
          "Week 50: 758.6100633894955",
          "Week 51: 4114.096595110319",
          "Week 52: 11896.247442288397"
         ],
         "type": "scatter",
         "x": [
          2,
          3,
          4,
          5,
          6,
          7,
          8,
          9,
          10,
          11,
          12,
          13,
          14,
          15,
          16,
          17,
          18,
          19,
          20,
          21,
          22,
          23,
          24,
          25,
          26,
          27,
          28,
          29,
          30,
          31,
          32,
          33,
          34,
          35,
          36,
          37,
          38,
          39,
          40,
          41,
          42,
          43,
          44,
          45,
          46,
          47,
          48,
          49,
          50,
          51,
          52
         ],
         "y": [
          0,
          2128.7835828597845,
          2266.0246448381804,
          1198.4032732935852,
          2091.354542107292,
          2055.377570592646,
          1401.864451618385,
          1145.6252812970552,
          1966.2941920832473,
          1628.983251950964,
          3875.0889273999305,
          7674.9817906730905,
          7097.113868937122,
          3622.2747207688863,
          7384.43981606767,
          5960.123284895909,
          13716.80147159509,
          6094.696670650133,
          -1668.0408950959538,
          1816.9599977532193,
          4867.4063635789535,
          4619.935077009544,
          4186.617147841518,
          3596.2797052794012,
          3357.2570162955226,
          4792.37274585782,
          3830.8729770152295,
          902.7971713815614,
          408.1719724030968,
          2412.0066307755155,
          3581.0674224011,
          2358.490260092569,
          504.5940801366728,
          388.8411427012901,
          2102.7931948237465,
          2943.0861324939497,
          3563.7768846139966,
          711.8040061510088,
          -670.9341977687786,
          1443.6459265279018,
          2835.720435611545,
          1645.874632764479,
          -30.49468654055113,
          501.0762038186276,
          3088.988678382597,
          5720.081676101731,
          3780.271619829543,
          230.9542238180145,
          758.6100633894955,
          4114.096595110319,
          11896.247442288397
         ]
        },
        {
         "hoverinfo": "text",
         "line": {
          "color": "green"
         },
         "marker": {
          "size": 10,
          "symbol": "x"
         },
         "mode": "markers+lines",
         "name": "Forecasted Values",
         "text": [
          "Week 53: 27224.96146453581",
          "Week 54: 28382.680761933087",
          "Week 55: 24647.938209856035",
          "Week 56: 24084.234072592873",
          "Week 57: 26099.104167362308",
          "Week 58: 28276.728621904906"
         ],
         "type": "scatter",
         "x": [
          53,
          54,
          55,
          56,
          57,
          58
         ],
         "y": [
          27224.96146453581,
          28382.680761933087,
          24647.938209856035,
          24084.234072592873,
          26099.104167362308,
          28276.728621904906
         ]
        }
       ],
       "layout": {
        "hovermode": "closest",
        "legend": {
         "title": {
          "text": "Legend"
         }
        },
        "template": {
         "data": {
          "bar": [
           {
            "error_x": {
             "color": "#2a3f5f"
            },
            "error_y": {
             "color": "#2a3f5f"
            },
            "marker": {
             "line": {
              "color": "#E5ECF6",
              "width": 0.5
             },
             "pattern": {
              "fillmode": "overlay",
              "size": 10,
              "solidity": 0.2
             }
            },
            "type": "bar"
           }
          ],
          "barpolar": [
           {
            "marker": {
             "line": {
              "color": "#E5ECF6",
              "width": 0.5
             },
             "pattern": {
              "fillmode": "overlay",
              "size": 10,
              "solidity": 0.2
             }
            },
            "type": "barpolar"
           }
          ],
          "carpet": [
           {
            "aaxis": {
             "endlinecolor": "#2a3f5f",
             "gridcolor": "white",
             "linecolor": "white",
             "minorgridcolor": "white",
             "startlinecolor": "#2a3f5f"
            },
            "baxis": {
             "endlinecolor": "#2a3f5f",
             "gridcolor": "white",
             "linecolor": "white",
             "minorgridcolor": "white",
             "startlinecolor": "#2a3f5f"
            },
            "type": "carpet"
           }
          ],
          "choropleth": [
           {
            "colorbar": {
             "outlinewidth": 0,
             "ticks": ""
            },
            "type": "choropleth"
           }
          ],
          "contour": [
           {
            "colorbar": {
             "outlinewidth": 0,
             "ticks": ""
            },
            "colorscale": [
             [
              0,
              "#0d0887"
             ],
             [
              0.1111111111111111,
              "#46039f"
             ],
             [
              0.2222222222222222,
              "#7201a8"
             ],
             [
              0.3333333333333333,
              "#9c179e"
             ],
             [
              0.4444444444444444,
              "#bd3786"
             ],
             [
              0.5555555555555556,
              "#d8576b"
             ],
             [
              0.6666666666666666,
              "#ed7953"
             ],
             [
              0.7777777777777778,
              "#fb9f3a"
             ],
             [
              0.8888888888888888,
              "#fdca26"
             ],
             [
              1,
              "#f0f921"
             ]
            ],
            "type": "contour"
           }
          ],
          "contourcarpet": [
           {
            "colorbar": {
             "outlinewidth": 0,
             "ticks": ""
            },
            "type": "contourcarpet"
           }
          ],
          "heatmap": [
           {
            "colorbar": {
             "outlinewidth": 0,
             "ticks": ""
            },
            "colorscale": [
             [
              0,
              "#0d0887"
             ],
             [
              0.1111111111111111,
              "#46039f"
             ],
             [
              0.2222222222222222,
              "#7201a8"
             ],
             [
              0.3333333333333333,
              "#9c179e"
             ],
             [
              0.4444444444444444,
              "#bd3786"
             ],
             [
              0.5555555555555556,
              "#d8576b"
             ],
             [
              0.6666666666666666,
              "#ed7953"
             ],
             [
              0.7777777777777778,
              "#fb9f3a"
             ],
             [
              0.8888888888888888,
              "#fdca26"
             ],
             [
              1,
              "#f0f921"
             ]
            ],
            "type": "heatmap"
           }
          ],
          "heatmapgl": [
           {
            "colorbar": {
             "outlinewidth": 0,
             "ticks": ""
            },
            "colorscale": [
             [
              0,
              "#0d0887"
             ],
             [
              0.1111111111111111,
              "#46039f"
             ],
             [
              0.2222222222222222,
              "#7201a8"
             ],
             [
              0.3333333333333333,
              "#9c179e"
             ],
             [
              0.4444444444444444,
              "#bd3786"
             ],
             [
              0.5555555555555556,
              "#d8576b"
             ],
             [
              0.6666666666666666,
              "#ed7953"
             ],
             [
              0.7777777777777778,
              "#fb9f3a"
             ],
             [
              0.8888888888888888,
              "#fdca26"
             ],
             [
              1,
              "#f0f921"
             ]
            ],
            "type": "heatmapgl"
           }
          ],
          "histogram": [
           {
            "marker": {
             "pattern": {
              "fillmode": "overlay",
              "size": 10,
              "solidity": 0.2
             }
            },
            "type": "histogram"
           }
          ],
          "histogram2d": [
           {
            "colorbar": {
             "outlinewidth": 0,
             "ticks": ""
            },
            "colorscale": [
             [
              0,
              "#0d0887"
             ],
             [
              0.1111111111111111,
              "#46039f"
             ],
             [
              0.2222222222222222,
              "#7201a8"
             ],
             [
              0.3333333333333333,
              "#9c179e"
             ],
             [
              0.4444444444444444,
              "#bd3786"
             ],
             [
              0.5555555555555556,
              "#d8576b"
             ],
             [
              0.6666666666666666,
              "#ed7953"
             ],
             [
              0.7777777777777778,
              "#fb9f3a"
             ],
             [
              0.8888888888888888,
              "#fdca26"
             ],
             [
              1,
              "#f0f921"
             ]
            ],
            "type": "histogram2d"
           }
          ],
          "histogram2dcontour": [
           {
            "colorbar": {
             "outlinewidth": 0,
             "ticks": ""
            },
            "colorscale": [
             [
              0,
              "#0d0887"
             ],
             [
              0.1111111111111111,
              "#46039f"
             ],
             [
              0.2222222222222222,
              "#7201a8"
             ],
             [
              0.3333333333333333,
              "#9c179e"
             ],
             [
              0.4444444444444444,
              "#bd3786"
             ],
             [
              0.5555555555555556,
              "#d8576b"
             ],
             [
              0.6666666666666666,
              "#ed7953"
             ],
             [
              0.7777777777777778,
              "#fb9f3a"
             ],
             [
              0.8888888888888888,
              "#fdca26"
             ],
             [
              1,
              "#f0f921"
             ]
            ],
            "type": "histogram2dcontour"
           }
          ],
          "mesh3d": [
           {
            "colorbar": {
             "outlinewidth": 0,
             "ticks": ""
            },
            "type": "mesh3d"
           }
          ],
          "parcoords": [
           {
            "line": {
             "colorbar": {
              "outlinewidth": 0,
              "ticks": ""
             }
            },
            "type": "parcoords"
           }
          ],
          "pie": [
           {
            "automargin": true,
            "type": "pie"
           }
          ],
          "scatter": [
           {
            "fillpattern": {
             "fillmode": "overlay",
             "size": 10,
             "solidity": 0.2
            },
            "type": "scatter"
           }
          ],
          "scatter3d": [
           {
            "line": {
             "colorbar": {
              "outlinewidth": 0,
              "ticks": ""
             }
            },
            "marker": {
             "colorbar": {
              "outlinewidth": 0,
              "ticks": ""
             }
            },
            "type": "scatter3d"
           }
          ],
          "scattercarpet": [
           {
            "marker": {
             "colorbar": {
              "outlinewidth": 0,
              "ticks": ""
             }
            },
            "type": "scattercarpet"
           }
          ],
          "scattergeo": [
           {
            "marker": {
             "colorbar": {
              "outlinewidth": 0,
              "ticks": ""
             }
            },
            "type": "scattergeo"
           }
          ],
          "scattergl": [
           {
            "marker": {
             "colorbar": {
              "outlinewidth": 0,
              "ticks": ""
             }
            },
            "type": "scattergl"
           }
          ],
          "scattermapbox": [
           {
            "marker": {
             "colorbar": {
              "outlinewidth": 0,
              "ticks": ""
             }
            },
            "type": "scattermapbox"
           }
          ],
          "scatterpolar": [
           {
            "marker": {
             "colorbar": {
              "outlinewidth": 0,
              "ticks": ""
             }
            },
            "type": "scatterpolar"
           }
          ],
          "scatterpolargl": [
           {
            "marker": {
             "colorbar": {
              "outlinewidth": 0,
              "ticks": ""
             }
            },
            "type": "scatterpolargl"
           }
          ],
          "scatterternary": [
           {
            "marker": {
             "colorbar": {
              "outlinewidth": 0,
              "ticks": ""
             }
            },
            "type": "scatterternary"
           }
          ],
          "surface": [
           {
            "colorbar": {
             "outlinewidth": 0,
             "ticks": ""
            },
            "colorscale": [
             [
              0,
              "#0d0887"
             ],
             [
              0.1111111111111111,
              "#46039f"
             ],
             [
              0.2222222222222222,
              "#7201a8"
             ],
             [
              0.3333333333333333,
              "#9c179e"
             ],
             [
              0.4444444444444444,
              "#bd3786"
             ],
             [
              0.5555555555555556,
              "#d8576b"
             ],
             [
              0.6666666666666666,
              "#ed7953"
             ],
             [
              0.7777777777777778,
              "#fb9f3a"
             ],
             [
              0.8888888888888888,
              "#fdca26"
             ],
             [
              1,
              "#f0f921"
             ]
            ],
            "type": "surface"
           }
          ],
          "table": [
           {
            "cells": {
             "fill": {
              "color": "#EBF0F8"
             },
             "line": {
              "color": "white"
             }
            },
            "header": {
             "fill": {
              "color": "#C8D4E3"
             },
             "line": {
              "color": "white"
             }
            },
            "type": "table"
           }
          ]
         },
         "layout": {
          "annotationdefaults": {
           "arrowcolor": "#2a3f5f",
           "arrowhead": 0,
           "arrowwidth": 1
          },
          "autotypenumbers": "strict",
          "coloraxis": {
           "colorbar": {
            "outlinewidth": 0,
            "ticks": ""
           }
          },
          "colorscale": {
           "diverging": [
            [
             0,
             "#8e0152"
            ],
            [
             0.1,
             "#c51b7d"
            ],
            [
             0.2,
             "#de77ae"
            ],
            [
             0.3,
             "#f1b6da"
            ],
            [
             0.4,
             "#fde0ef"
            ],
            [
             0.5,
             "#f7f7f7"
            ],
            [
             0.6,
             "#e6f5d0"
            ],
            [
             0.7,
             "#b8e186"
            ],
            [
             0.8,
             "#7fbc41"
            ],
            [
             0.9,
             "#4d9221"
            ],
            [
             1,
             "#276419"
            ]
           ],
           "sequential": [
            [
             0,
             "#0d0887"
            ],
            [
             0.1111111111111111,
             "#46039f"
            ],
            [
             0.2222222222222222,
             "#7201a8"
            ],
            [
             0.3333333333333333,
             "#9c179e"
            ],
            [
             0.4444444444444444,
             "#bd3786"
            ],
            [
             0.5555555555555556,
             "#d8576b"
            ],
            [
             0.6666666666666666,
             "#ed7953"
            ],
            [
             0.7777777777777778,
             "#fb9f3a"
            ],
            [
             0.8888888888888888,
             "#fdca26"
            ],
            [
             1,
             "#f0f921"
            ]
           ],
           "sequentialminus": [
            [
             0,
             "#0d0887"
            ],
            [
             0.1111111111111111,
             "#46039f"
            ],
            [
             0.2222222222222222,
             "#7201a8"
            ],
            [
             0.3333333333333333,
             "#9c179e"
            ],
            [
             0.4444444444444444,
             "#bd3786"
            ],
            [
             0.5555555555555556,
             "#d8576b"
            ],
            [
             0.6666666666666666,
             "#ed7953"
            ],
            [
             0.7777777777777778,
             "#fb9f3a"
            ],
            [
             0.8888888888888888,
             "#fdca26"
            ],
            [
             1,
             "#f0f921"
            ]
           ]
          },
          "colorway": [
           "#636efa",
           "#EF553B",
           "#00cc96",
           "#ab63fa",
           "#FFA15A",
           "#19d3f3",
           "#FF6692",
           "#B6E880",
           "#FF97FF",
           "#FECB52"
          ],
          "font": {
           "color": "#2a3f5f"
          },
          "geo": {
           "bgcolor": "white",
           "lakecolor": "white",
           "landcolor": "#E5ECF6",
           "showlakes": true,
           "showland": true,
           "subunitcolor": "white"
          },
          "hoverlabel": {
           "align": "left"
          },
          "hovermode": "closest",
          "mapbox": {
           "style": "light"
          },
          "paper_bgcolor": "white",
          "plot_bgcolor": "#E5ECF6",
          "polar": {
           "angularaxis": {
            "gridcolor": "white",
            "linecolor": "white",
            "ticks": ""
           },
           "bgcolor": "#E5ECF6",
           "radialaxis": {
            "gridcolor": "white",
            "linecolor": "white",
            "ticks": ""
           }
          },
          "scene": {
           "xaxis": {
            "backgroundcolor": "#E5ECF6",
            "gridcolor": "white",
            "gridwidth": 2,
            "linecolor": "white",
            "showbackground": true,
            "ticks": "",
            "zerolinecolor": "white"
           },
           "yaxis": {
            "backgroundcolor": "#E5ECF6",
            "gridcolor": "white",
            "gridwidth": 2,
            "linecolor": "white",
            "showbackground": true,
            "ticks": "",
            "zerolinecolor": "white"
           },
           "zaxis": {
            "backgroundcolor": "#E5ECF6",
            "gridcolor": "white",
            "gridwidth": 2,
            "linecolor": "white",
            "showbackground": true,
            "ticks": "",
            "zerolinecolor": "white"
           }
          },
          "shapedefaults": {
           "line": {
            "color": "#2a3f5f"
           }
          },
          "ternary": {
           "aaxis": {
            "gridcolor": "white",
            "linecolor": "white",
            "ticks": ""
           },
           "baxis": {
            "gridcolor": "white",
            "linecolor": "white",
            "ticks": ""
           },
           "bgcolor": "#E5ECF6",
           "caxis": {
            "gridcolor": "white",
            "linecolor": "white",
            "ticks": ""
           }
          },
          "title": {
           "x": 0.05
          },
          "xaxis": {
           "automargin": true,
           "gridcolor": "white",
           "linecolor": "white",
           "ticks": "",
           "title": {
            "standoff": 15
           },
           "zerolinecolor": "white",
           "zerolinewidth": 2
          },
          "yaxis": {
           "automargin": true,
           "gridcolor": "white",
           "linecolor": "white",
           "ticks": "",
           "title": {
            "standoff": 15
           },
           "zerolinecolor": "white",
           "zerolinewidth": 2
          }
         }
        },
        "title": {
         "text": "ARIMA Model: Actual vs Fitted vs Forecast"
        },
        "xaxis": {
         "title": {
          "text": "Week"
         }
        },
        "yaxis": {
         "title": {
          "text": "Number of Orders"
         }
        }
       }
      }
     },
     "metadata": {},
     "output_type": "display_data"
    }
   ],
   "source": [
    "import plotly.graph_objects as go\n",
    "import numpy as np\n",
    "\n",
    "# Prepare the data\n",
    "weeks = df['week']\n",
    "actual_values = df['number_of_order']\n",
    "fitted_values = model.fittedvalues\n",
    "\n",
    "# Forecast the future values\n",
    "forecast_steps = 6\n",
    "forecast = model.forecast(steps=forecast_steps)\n",
    "forecast_index = np.arange(df['week'].max() + 1, df['week'].max() + 1 + forecast_steps)\n",
    "\n",
    "# Create a plotly figure\n",
    "fig = go.Figure()\n",
    "\n",
    "# Add actual values as a scatter plot\n",
    "fig.add_trace(go.Scatter(\n",
    "    x=weeks,\n",
    "    y=actual_values,\n",
    "    mode='markers+lines',\n",
    "    name='Actual Values',\n",
    "    line=dict(color='blue'),\n",
    "    marker=dict(symbol='circle', size=8),\n",
    "    text=[f'Week {w}: {v}' for w, v in zip(weeks, actual_values)],  # Hover text\n",
    "    hoverinfo='text'  # Show hover text when hovering\n",
    "))\n",
    "\n",
    "# Add fitted values (ARIMA model)\n",
    "fig.add_trace(go.Scatter(\n",
    "    x=weeks,\n",
    "    y=fitted_values,\n",
    "    mode='lines',\n",
    "    name='Fitted Values (ARIMA)',\n",
    "    line=dict(color='red', dash='dash'),\n",
    "    text=[f'Week {w}: {v}' for w, v in zip(weeks, fitted_values)],  # Hover text\n",
    "    hoverinfo='text'  # Show hover text when hovering\n",
    "))\n",
    "\n",
    "# Add forecasted values\n",
    "fig.add_trace(go.Scatter(\n",
    "    x=forecast_index,\n",
    "    y=forecast,\n",
    "    mode='markers+lines',\n",
    "    name='Forecasted Values',\n",
    "    line=dict(color='green'),\n",
    "    marker=dict(symbol='x', size=10),\n",
    "    text=[f'Week {w}: {v}' for w, v in zip(forecast_index, forecast)],  # Hover text\n",
    "    hoverinfo='text'  # Show hover text when hovering\n",
    "))\n",
    "\n",
    "# Update layout\n",
    "fig.update_layout(\n",
    "    title='ARIMA Model: Actual vs Fitted vs Forecast',\n",
    "    xaxis_title='Week',\n",
    "    yaxis_title='Number of Orders',\n",
    "    legend_title='Legend',\n",
    "    hovermode='closest'  # Ensure hover shows info for closest point\n",
    ")\n",
    "\n",
    "# Show the plot\n",
    "fig.show()\n"
   ]
  }
 ],
 "metadata": {
  "kernelspec": {
   "display_name": ".venv",
   "language": "python",
   "name": "python3"
  },
  "language_info": {
   "codemirror_mode": {
    "name": "ipython",
    "version": 3
   },
   "file_extension": ".py",
   "mimetype": "text/x-python",
   "name": "python",
   "nbconvert_exporter": "python",
   "pygments_lexer": "ipython3",
   "version": "3.10.12"
  }
 },
 "nbformat": 4,
 "nbformat_minor": 2
}
